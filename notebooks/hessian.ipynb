{
 "cells": [
  {
   "cell_type": "code",
   "execution_count": 1,
   "id": "purple-scotland",
   "metadata": {},
   "outputs": [
    {
     "data": {
      "text/html": [
       "<link href='https://fonts.googleapis.com/css?family=Nunito' rel='stylesheet' type='text/css'>"
      ],
      "text/plain": [
       "<IPython.core.display.HTML object>"
      ]
     },
     "execution_count": 1,
     "metadata": {},
     "output_type": "execute_result"
    }
   ],
   "source": [
    "%load_ext autoreload\n",
    "%autoreload 1\n",
    "\n",
    "import sys\n",
    "sys.path.append(\"../\")\n",
    "\n",
    "%aimport ablation\n",
    "from ablation import *\n",
    "from models.mlp import MLP\n",
    "from agents.interval import IntervalNet\n",
    "\n",
    "HTML(f\"<link href='https://fonts.googleapis.com/css?family={FONT_FAMILY}' rel='stylesheet' type='text/css'>\")"
   ]
  },
  {
   "cell_type": "markdown",
   "id": "color-compensation",
   "metadata": {},
   "source": [
    "### MNIST"
   ]
  },
  {
   "cell_type": "code",
   "execution_count": null,
   "id": "satisfied-shift",
   "metadata": {},
   "outputs": [],
   "source": [
    "cfg = {\n",
    "    'lr': 0.001,\n",
    "    'momentum': 0,\n",
    "    'weight_decay': 0,\n",
    "    'schedule': [500],\n",
    "    'model_type': 'mlp',\n",
    "    'model_name': 'ablation_interval_mlp',\n",
    "    'model_weights': None,\n",
    "    'out_dim': {'All': 2},\n",
    "    'optimizer': 'Adam',\n",
    "    'print_freq': 100,\n",
    "    'gpuid': [0],\n",
    "    'reg_coef': 0.0,\n",
    "    'force_out_dim': 2,\n",
    "    'clipping': True,\n",
    "    'eps_per_model': True,\n",
    "    'milestones': [],\n",
    "    'dataset_name': 'ablation_points2d'\n",
    "}\n",
    "\n",
    "agent_plot = Plot(start=0, end=500, step=500)\n",
    "display(agent_plot.ui)"
   ]
  }
 ],
 "metadata": {
  "kernelspec": {
   "display_name": "Python 3",
   "language": "python",
   "name": "python3"
  },
  "language_info": {
   "codemirror_mode": {
    "name": "ipython",
    "version": 3
   },
   "file_extension": ".py",
   "mimetype": "text/x-python",
   "name": "python",
   "nbconvert_exporter": "python",
   "pygments_lexer": "ipython3",
   "version": "3.8.5"
  }
 },
 "nbformat": 4,
 "nbformat_minor": 5
}
