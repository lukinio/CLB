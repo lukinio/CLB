{
 "cells": [
  {
   "cell_type": "code",
   "execution_count": 1,
   "metadata": {},
   "outputs": [],
   "source": [
    "import torch\n",
    "import numpy as np\n",
    "from scipy import stats\n",
    "\n",
    "import matplotlib\n",
    "import matplotlib.pyplot as plt\n",
    "\n",
    "from IPython.display import display\n",
    "from ipywidgets import widgets, Output, VBox, HBox"
   ]
  },
  {
   "cell_type": "code",
   "execution_count": 2,
   "metadata": {},
   "outputs": [],
   "source": [
    "ewc = [\n",
    "    torch.load('../checkpoints/EWC1/EWC-task_1-importance.pt')[1]['importance'],\n",
    "    torch.load('../checkpoints/EWC2/EWC-task_1-importance.pt')[1]['importance']\n",
    "]\n",
    "\n",
    "# interval = torch.load('../checkpoints/interval_1.pt')"
   ]
  },
  {
   "cell_type": "markdown",
   "metadata": {},
   "source": [
    "## EWC randomness check"
   ]
  },
  {
   "cell_type": "code",
   "execution_count": 10,
   "metadata": {},
   "outputs": [
    {
     "name": "stdout",
     "output_type": "stream",
     "text": [
      "c1.0.weight (864,) (864,)\n",
      "Pearson R: (0.13818748016823557, 4.590509140146782e-05)\n",
      "0.0006322481785900891 -- 0.03687315061688423 vs 0.0008255137945525348 -- 0.01971588470041752\n"
     ]
    },
    {
     "data": {
      "application/vnd.jupyter.widget-view+json": {
       "model_id": "dc45c0e2808444aca561d5b6e1fa5e11",
       "version_major": 2,
       "version_minor": 0
      },
      "text/plain": [
       "HBox(children=(Output(), Output()))"
      ]
     },
     "metadata": {},
     "output_type": "display_data"
    },
    {
     "name": "stdout",
     "output_type": "stream",
     "text": [
      "c1.0.bias (32,) (32,)\n",
      "Pearson R: (-0.06388556067044962, 0.7283147409189864)\n",
      "0.0012676632031798363 -- 0.03344719484448433 vs 0.0009511008393019438 -- 0.011118277907371521\n"
     ]
    },
    {
     "data": {
      "application/vnd.jupyter.widget-view+json": {
       "model_id": "f0fa5f00f41b40149279fd226a97d1ef",
       "version_major": 2,
       "version_minor": 0
      },
      "text/plain": [
       "HBox(children=(Output(), Output()))"
      ]
     },
     "metadata": {},
     "output_type": "display_data"
    },
    {
     "name": "stdout",
     "output_type": "stream",
     "text": [
      "c1.2.weight (9216,) (9216,)\n",
      "Pearson R: (0.09272819199794448, 4.66616861189504e-19)\n",
      "0.0 -- 0.005916633177548647 vs 0.0 -- 0.005748295225203037\n"
     ]
    },
    {
     "data": {
      "application/vnd.jupyter.widget-view+json": {
       "model_id": "2a0a576863e749a4b2611575bb733558",
       "version_major": 2,
       "version_minor": 0
      },
      "text/plain": [
       "HBox(children=(Output(), Output()))"
      ]
     },
     "metadata": {},
     "output_type": "display_data"
    },
    {
     "name": "stdout",
     "output_type": "stream",
     "text": [
      "c1.2.bias (32,) (32,)\n",
      "Pearson R: (0.07916058919629128, 0.6667150784995381)\n",
      "0.0 -- 0.02663695439696312 vs 0.0 -- 0.01559537835419178\n"
     ]
    },
    {
     "data": {
      "application/vnd.jupyter.widget-view+json": {
       "model_id": "dbc2a54e03fd483cbf93c1d23cf5bb17",
       "version_major": 2,
       "version_minor": 0
      },
      "text/plain": [
       "HBox(children=(Output(), Output()))"
      ]
     },
     "metadata": {},
     "output_type": "display_data"
    },
    {
     "name": "stdout",
     "output_type": "stream",
     "text": [
      "c1.4.weight (18432,) (18432,)\n",
      "Pearson R: (0.036957590098359284, 5.196737839875491e-07)\n",
      "0.0 -- 0.011492475867271423 vs 0.0 -- 0.010929920710623264\n"
     ]
    },
    {
     "data": {
      "application/vnd.jupyter.widget-view+json": {
       "model_id": "d52097372b264ab6872f94c16e81dea3",
       "version_major": 2,
       "version_minor": 0
      },
      "text/plain": [
       "HBox(children=(Output(), Output()))"
      ]
     },
     "metadata": {},
     "output_type": "display_data"
    },
    {
     "name": "stdout",
     "output_type": "stream",
     "text": [
      "c1.4.bias (64,) (64,)\n",
      "Pearson R: (-0.11072423568495948, 0.38374426375427034)\n",
      "0.0 -- 0.056949369609355927 vs 0.0 -- 0.04264502972364426\n"
     ]
    },
    {
     "data": {
      "application/vnd.jupyter.widget-view+json": {
       "model_id": "1872c747504c4b378de0fc9798c7817f",
       "version_major": 2,
       "version_minor": 0
      },
      "text/plain": [
       "HBox(children=(Output(), Output()))"
      ]
     },
     "metadata": {},
     "output_type": "display_data"
    },
    {
     "name": "stdout",
     "output_type": "stream",
     "text": [
      "c2.0.weight (36864,) (36864,)\n",
      "Pearson R: (0.014730502820442967, 0.004679387317281277)\n",
      "0.0 -- 0.003008113708347082 vs 0.0 -- 0.0033506262116134167\n"
     ]
    },
    {
     "data": {
      "application/vnd.jupyter.widget-view+json": {
       "model_id": "38691b243599493d8da69633d8758b97",
       "version_major": 2,
       "version_minor": 0
      },
      "text/plain": [
       "HBox(children=(Output(), Output()))"
      ]
     },
     "metadata": {},
     "output_type": "display_data"
    },
    {
     "name": "stdout",
     "output_type": "stream",
     "text": [
      "c2.0.bias (64,) (64,)\n",
      "Pearson R: (0.22139873859497494, 0.07871830886427884)\n",
      "0.0 -- 0.0842515230178833 vs 0.0 -- 0.07255326956510544\n"
     ]
    },
    {
     "data": {
      "application/vnd.jupyter.widget-view+json": {
       "model_id": "5ff2e6d5fc0b4dbf882f2c345689d2f3",
       "version_major": 2,
       "version_minor": 0
      },
      "text/plain": [
       "HBox(children=(Output(), Output()))"
      ]
     },
     "metadata": {},
     "output_type": "display_data"
    },
    {
     "name": "stdout",
     "output_type": "stream",
     "text": [
      "c2.2.weight (73728,) (73728,)\n",
      "Pearson R: (0.03490035136792601, 2.5627803094614017e-21)\n",
      "0.0 -- 0.0014696334255859256 vs 0.0 -- 0.0024998849257826805\n"
     ]
    },
    {
     "data": {
      "application/vnd.jupyter.widget-view+json": {
       "model_id": "b44d6113b36345d19adcc31a10056f4c",
       "version_major": 2,
       "version_minor": 0
      },
      "text/plain": [
       "HBox(children=(Output(), Output()))"
      ]
     },
     "metadata": {},
     "output_type": "display_data"
    },
    {
     "name": "stdout",
     "output_type": "stream",
     "text": [
      "c2.2.bias (128,) (128,)\n",
      "Pearson R: (0.10268616844941234, 0.24873941687211823)\n",
      "0.0 -- 0.01230914331972599 vs 0.0 -- 0.012620474211871624\n"
     ]
    },
    {
     "data": {
      "application/vnd.jupyter.widget-view+json": {
       "model_id": "6b3921dc9a7f4918a6e4a3a10eab99be",
       "version_major": 2,
       "version_minor": 0
      },
      "text/plain": [
       "HBox(children=(Output(), Output()))"
      ]
     },
     "metadata": {},
     "output_type": "display_data"
    },
    {
     "name": "stdout",
     "output_type": "stream",
     "text": [
      "c3.0.weight (147456,) (147456,)\n",
      "Pearson R: (-0.010116824426467932, 0.00010236061672786409)\n",
      "0.0 -- 0.0004600641841534525 vs 0.0 -- 0.00019460679322946817\n"
     ]
    },
    {
     "data": {
      "application/vnd.jupyter.widget-view+json": {
       "model_id": "27f2dabf232144b2b0c0e448a3acdced",
       "version_major": 2,
       "version_minor": 0
      },
      "text/plain": [
       "HBox(children=(Output(), Output()))"
      ]
     },
     "metadata": {},
     "output_type": "display_data"
    },
    {
     "name": "stdout",
     "output_type": "stream",
     "text": [
      "c3.0.bias (128,) (128,)\n",
      "Pearson R: (-0.06374487754525311, 0.47470562403889444)\n",
      "0.0 -- 0.00617724796757102 vs 0.0 -- 0.014119786210358143\n"
     ]
    },
    {
     "data": {
      "application/vnd.jupyter.widget-view+json": {
       "model_id": "5b97f85bed0c4d64a8a92ef9d4fe52d2",
       "version_major": 2,
       "version_minor": 0
      },
      "text/plain": [
       "HBox(children=(Output(), Output()))"
      ]
     },
     "metadata": {},
     "output_type": "display_data"
    },
    {
     "name": "stdout",
     "output_type": "stream",
     "text": [
      "c3.2.weight (147456,) (147456,)\n",
      "Pearson R: (-0.01592370720606208, 9.653311032430943e-10)\n",
      "0.0 -- 0.0002779343049041927 vs 0.0 -- 0.0002905700821429491\n"
     ]
    },
    {
     "data": {
      "application/vnd.jupyter.widget-view+json": {
       "model_id": "ae89c62786ea4b58a58ec47f97eab572",
       "version_major": 2,
       "version_minor": 0
      },
      "text/plain": [
       "HBox(children=(Output(), Output()))"
      ]
     },
     "metadata": {},
     "output_type": "display_data"
    },
    {
     "name": "stdout",
     "output_type": "stream",
     "text": [
      "c3.2.bias (128,) (128,)\n",
      "Pearson R: (-0.07276676873739735, 0.41434638017865055)\n",
      "0.0 -- 0.003296529408544302 vs 0.0 -- 0.002437441609799862\n"
     ]
    },
    {
     "data": {
      "application/vnd.jupyter.widget-view+json": {
       "model_id": "5f091bdb64f949f28c2eff30af08a0f7",
       "version_major": 2,
       "version_minor": 0
      },
      "text/plain": [
       "HBox(children=(Output(), Output()))"
      ]
     },
     "metadata": {},
     "output_type": "display_data"
    },
    {
     "name": "stdout",
     "output_type": "stream",
     "text": [
      "fc1.0.weight (819200,) (819200,)\n",
      "Pearson R: (0.00626390786574855, 1.432238990171608e-08)\n",
      "0.0 -- 6.298358584899688e-06 vs 0.0 -- 1.4899650523148011e-05\n"
     ]
    },
    {
     "data": {
      "application/vnd.jupyter.widget-view+json": {
       "model_id": "3ff4287b73a846089f7a22eda8323607",
       "version_major": 2,
       "version_minor": 0
      },
      "text/plain": [
       "HBox(children=(Output(), Output()))"
      ]
     },
     "metadata": {},
     "output_type": "display_data"
    },
    {
     "name": "stdout",
     "output_type": "stream",
     "text": [
      "fc1.0.bias (256,) (256,)\n",
      "Pearson R: (-0.04116246021129695, 0.512046612009897)\n",
      "0.0 -- 2.9126347726560198e-05 vs 0.0 -- 3.018149254785385e-05\n"
     ]
    },
    {
     "data": {
      "application/vnd.jupyter.widget-view+json": {
       "model_id": "43fe52bc18594af1b3f06f06ff9f8769",
       "version_major": 2,
       "version_minor": 0
      },
      "text/plain": [
       "HBox(children=(Output(), Output()))"
      ]
     },
     "metadata": {},
     "output_type": "display_data"
    },
    {
     "name": "stdout",
     "output_type": "stream",
     "text": [
      "last.All.weight (512,) (512,)\n",
      "Pearson R: (-0.043335015901397975, 0.32776648379956125)\n",
      "0.0 -- 0.002176207723096013 vs 0.0 -- 0.0044113630428910255\n"
     ]
    },
    {
     "data": {
      "application/vnd.jupyter.widget-view+json": {
       "model_id": "1327bd3883714239b16ac7ae9a7fe26d",
       "version_major": 2,
       "version_minor": 0
      },
      "text/plain": [
       "HBox(children=(Output(), Output()))"
      ]
     },
     "metadata": {},
     "output_type": "display_data"
    },
    {
     "name": "stdout",
     "output_type": "stream",
     "text": [
      "last.All.bias (2,) (2,)\n",
      "Pearson R: (1.0, 1.0)\n",
      "0.0010263773147016764 -- 0.0010263777803629637 vs 0.0014922863338142633 -- 0.001492287265136838\n"
     ]
    },
    {
     "data": {
      "application/vnd.jupyter.widget-view+json": {
       "model_id": "7d133eaefbea46a4b68f66ca147b2b39",
       "version_major": 2,
       "version_minor": 0
      },
      "text/plain": [
       "HBox(children=(Output(), Output()))"
      ]
     },
     "metadata": {},
     "output_type": "display_data"
    }
   ],
   "source": [
    "from scipy import stats\n",
    "\n",
    "for layer in ewc[0]:\n",
    "    a, b = ewc[0][layer].flatten().cpu().numpy(), ewc[1][layer].flatten().cpu().numpy()\n",
    "    \n",
    "    print(layer, a.shape, b.shape)\n",
    "    print(f'Pearson R: {stats.pearsonr(a, b)}')\n",
    "    print(f'{a.min()} -- {a.max()} vs {b.min()} -- {b.max()}')\n",
    "    \n",
    "    h = int(np.sqrt(a.shape[0]))\n",
    "    while a.shape[0] % h != 0:\n",
    "        h -= 1\n",
    "    \n",
    "    a = a.reshape(h, -1)\n",
    "    b = b.reshape(h, -1)\n",
    "    \n",
    "    downscale = 15\n",
    "    with (out1 := Output()):\n",
    "        plt.figure(figsize=(a.shape[0] / downscale, a.shape[1] / downscale))\n",
    "        plt.axis('off')\n",
    "        plt.show(plt.imshow(a, vmin=a.min(), vmax=a.max(), aspect='equal', interpolation='none'))\n",
    "    with (out2 := Output()):\n",
    "        plt.figure(figsize=(b.shape[0] / downscale, b.shape[1] / downscale))\n",
    "        plt.axis('off')\n",
    "        plt.show(plt.imshow(b, vmin=a.min(), vmax=a.max(), aspect='equal', interpolation='none'))\n",
    "        \n",
    "    display(HBox([\n",
    "        out1,\n",
    "        out2\n",
    "    ]))"
   ]
  },
  {
   "cell_type": "code",
   "execution_count": null,
   "metadata": {},
   "outputs": [],
   "source": []
  }
 ],
 "metadata": {
  "interpreter": {
   "hash": "60ef117c19e7f15cee43906cd23c65e127d99dcd5054db6a18e21d0d9e1d4733"
  },
  "kernelspec": {
   "display_name": "Python 3",
   "language": "python",
   "name": "python3"
  },
  "language_info": {
   "codemirror_mode": {
    "name": "ipython",
    "version": 3
   },
   "file_extension": ".py",
   "mimetype": "text/x-python",
   "name": "python",
   "nbconvert_exporter": "python",
   "pygments_lexer": "ipython3",
   "version": "3.9.5"
  }
 },
 "nbformat": 4,
 "nbformat_minor": 4
}
