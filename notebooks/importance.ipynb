{
 "cells": [
  {
   "cell_type": "code",
   "execution_count": 1,
   "metadata": {},
   "outputs": [],
   "source": [
    "import torch\n",
    "import numpy as np\n",
    "from scipy import stats\n",
    "\n",
    "import matplotlib\n",
    "import matplotlib.pyplot as plt\n",
    "\n",
    "from IPython.display import display\n",
    "from ipywidgets import widgets, Output, VBox, HBox"
   ]
  },
  {
   "cell_type": "code",
   "execution_count": 2,
   "metadata": {},
   "outputs": [],
   "source": [
    "ewc = [\n",
    "    torch.load('../checkpoints/EWC1/EWC-task_1-importance.pt')[1]['importance'],\n",
    "    torch.load('../checkpoints/EWC2/EWC-task_1-importance.pt')[1]['importance']\n",
    "]\n",
    "\n",
    "# interval = torch.load('../checkpoints/interval_1.pt')"
   ]
  },
  {
   "cell_type": "markdown",
   "metadata": {},
   "source": [
    "## EWC randomness check"
   ]
  },
  {
   "cell_type": "code",
   "execution_count": 3,
   "metadata": {},
   "outputs": [
    {
     "name": "stdout",
     "output_type": "stream",
     "text": [
      "c1.0.weight (864,) (864,)\n",
      "Pearson R: (0.13818748016823557, 4.590509140146782e-05)\n",
      "0.0006322481785900891 -- 0.03687315061688423 vs 0.0008255137945525348 -- 0.01971588470041752\n"
     ]
    },
    {
     "data": {
      "application/vnd.jupyter.widget-view+json": {
       "model_id": "d5d9a6a992344b03946819e9c9d263dd",
       "version_major": 2,
       "version_minor": 0
      },
      "text/plain": [
       "HBox(children=(Output(), Output()))"
      ]
     },
     "metadata": {},
     "output_type": "display_data"
    },
    {
     "name": "stdout",
     "output_type": "stream",
     "text": [
      "c1.0.bias (32,) (32,)\n",
      "Pearson R: (-0.0638855606704496, 0.7283147409189864)\n",
      "0.0012676632031798363 -- 0.03344719484448433 vs 0.0009511008393019438 -- 0.011118277907371521\n"
     ]
    },
    {
     "data": {
      "application/vnd.jupyter.widget-view+json": {
       "model_id": "74492af59c294473bca7c215aa3f87b3",
       "version_major": 2,
       "version_minor": 0
      },
      "text/plain": [
       "HBox(children=(Output(), Output()))"
      ]
     },
     "metadata": {},
     "output_type": "display_data"
    },
    {
     "name": "stdout",
     "output_type": "stream",
     "text": [
      "c1.2.weight (9216,) (9216,)\n",
      "Pearson R: (0.09272819199794449, 4.66616861189504e-19)\n",
      "0.0 -- 0.005916633177548647 vs 0.0 -- 0.005748295225203037\n"
     ]
    },
    {
     "data": {
      "application/vnd.jupyter.widget-view+json": {
       "model_id": "cdb315ca8f7d48248340e9956de530c0",
       "version_major": 2,
       "version_minor": 0
      },
      "text/plain": [
       "HBox(children=(Output(), Output()))"
      ]
     },
     "metadata": {},
     "output_type": "display_data"
    },
    {
     "name": "stdout",
     "output_type": "stream",
     "text": [
      "c1.2.bias (32,) (32,)\n",
      "Pearson R: (0.07916058919629126, 0.6667150784995395)\n",
      "0.0 -- 0.02663695439696312 vs 0.0 -- 0.01559537835419178\n"
     ]
    },
    {
     "data": {
      "application/vnd.jupyter.widget-view+json": {
       "model_id": "a9754ab08d814c75a4d6953633b13bf1",
       "version_major": 2,
       "version_minor": 0
      },
      "text/plain": [
       "HBox(children=(Output(), Output()))"
      ]
     },
     "metadata": {},
     "output_type": "display_data"
    },
    {
     "name": "stdout",
     "output_type": "stream",
     "text": [
      "c1.4.weight (18432,) (18432,)\n",
      "Pearson R: (0.036957590098359284, 5.196737839875491e-07)\n",
      "0.0 -- 0.011492475867271423 vs 0.0 -- 0.010929920710623264\n"
     ]
    },
    {
     "data": {
      "application/vnd.jupyter.widget-view+json": {
       "model_id": "4e884e0ec2e24501882e0f0ef791f45a",
       "version_major": 2,
       "version_minor": 0
      },
      "text/plain": [
       "HBox(children=(Output(), Output()))"
      ]
     },
     "metadata": {},
     "output_type": "display_data"
    },
    {
     "name": "stdout",
     "output_type": "stream",
     "text": [
      "c1.4.bias (64,) (64,)\n",
      "Pearson R: (-0.11072423568495944, 0.38374426375427034)\n",
      "0.0 -- 0.056949369609355927 vs 0.0 -- 0.04264502972364426\n"
     ]
    },
    {
     "data": {
      "application/vnd.jupyter.widget-view+json": {
       "model_id": "1ae4f6000bf84464813b2bb4f7fbd76a",
       "version_major": 2,
       "version_minor": 0
      },
      "text/plain": [
       "HBox(children=(Output(), Output()))"
      ]
     },
     "metadata": {},
     "output_type": "display_data"
    },
    {
     "name": "stdout",
     "output_type": "stream",
     "text": [
      "c2.0.weight (36864,) (36864,)\n",
      "Pearson R: (0.01473050282044297, 0.004679387317281277)\n",
      "0.0 -- 0.003008113708347082 vs 0.0 -- 0.0033506262116134167\n"
     ]
    },
    {
     "data": {
      "application/vnd.jupyter.widget-view+json": {
       "model_id": "1b47d2d0351240c7976dc49c206c6f4a",
       "version_major": 2,
       "version_minor": 0
      },
      "text/plain": [
       "HBox(children=(Output(), Output()))"
      ]
     },
     "metadata": {},
     "output_type": "display_data"
    },
    {
     "name": "stdout",
     "output_type": "stream",
     "text": [
      "c2.0.bias (64,) (64,)\n",
      "Pearson R: (0.22139873859497494, 0.07871830886427884)\n",
      "0.0 -- 0.0842515230178833 vs 0.0 -- 0.07255326956510544\n"
     ]
    },
    {
     "data": {
      "application/vnd.jupyter.widget-view+json": {
       "model_id": "d620ed9205e44b4db49e69c53afb7fb8",
       "version_major": 2,
       "version_minor": 0
      },
      "text/plain": [
       "HBox(children=(Output(), Output()))"
      ]
     },
     "metadata": {},
     "output_type": "display_data"
    },
    {
     "name": "stdout",
     "output_type": "stream",
     "text": [
      "c2.2.weight (73728,) (73728,)\n",
      "Pearson R: (0.034900351367926005, 2.5627803094614017e-21)\n",
      "0.0 -- 0.0014696334255859256 vs 0.0 -- 0.0024998849257826805\n"
     ]
    },
    {
     "data": {
      "application/vnd.jupyter.widget-view+json": {
       "model_id": "510b7fee3e8243ce81036b06d21655da",
       "version_major": 2,
       "version_minor": 0
      },
      "text/plain": [
       "HBox(children=(Output(), Output()))"
      ]
     },
     "metadata": {},
     "output_type": "display_data"
    },
    {
     "name": "stdout",
     "output_type": "stream",
     "text": [
      "c2.2.bias (128,) (128,)\n",
      "Pearson R: (0.1026861684494123, 0.24873941687211706)\n",
      "0.0 -- 0.01230914331972599 vs 0.0 -- 0.012620474211871624\n"
     ]
    },
    {
     "data": {
      "application/vnd.jupyter.widget-view+json": {
       "model_id": "9ee143368e444effbc9b6cb31e9974cd",
       "version_major": 2,
       "version_minor": 0
      },
      "text/plain": [
       "HBox(children=(Output(), Output()))"
      ]
     },
     "metadata": {},
     "output_type": "display_data"
    },
    {
     "name": "stdout",
     "output_type": "stream",
     "text": [
      "c3.0.weight (147456,) (147456,)\n",
      "Pearson R: (-0.010116824426467927, 0.00010236061672786409)\n",
      "0.0 -- 0.0004600641841534525 vs 0.0 -- 0.00019460679322946817\n"
     ]
    },
    {
     "data": {
      "application/vnd.jupyter.widget-view+json": {
       "model_id": "216a92b8ceed40f3a9dd21c9d59fd9de",
       "version_major": 2,
       "version_minor": 0
      },
      "text/plain": [
       "HBox(children=(Output(), Output()))"
      ]
     },
     "metadata": {},
     "output_type": "display_data"
    },
    {
     "name": "stdout",
     "output_type": "stream",
     "text": [
      "c3.0.bias (128,) (128,)\n",
      "Pearson R: (-0.06374487754525313, 0.47470562403889444)\n",
      "0.0 -- 0.00617724796757102 vs 0.0 -- 0.014119786210358143\n"
     ]
    },
    {
     "data": {
      "application/vnd.jupyter.widget-view+json": {
       "model_id": "04944b5329df484badb24f939d32c577",
       "version_major": 2,
       "version_minor": 0
      },
      "text/plain": [
       "HBox(children=(Output(), Output()))"
      ]
     },
     "metadata": {},
     "output_type": "display_data"
    },
    {
     "name": "stdout",
     "output_type": "stream",
     "text": [
      "c3.2.weight (147456,) (147456,)\n",
      "Pearson R: (-0.015923707206062062, 9.653311032430943e-10)\n",
      "0.0 -- 0.0002779343049041927 vs 0.0 -- 0.0002905700821429491\n"
     ]
    },
    {
     "data": {
      "application/vnd.jupyter.widget-view+json": {
       "model_id": "1199d2b206b34085a66954c822badba3",
       "version_major": 2,
       "version_minor": 0
      },
      "text/plain": [
       "HBox(children=(Output(), Output()))"
      ]
     },
     "metadata": {},
     "output_type": "display_data"
    },
    {
     "name": "stdout",
     "output_type": "stream",
     "text": [
      "c3.2.bias (128,) (128,)\n",
      "Pearson R: (-0.07276676873739735, 0.41434638017865055)\n",
      "0.0 -- 0.003296529408544302 vs 0.0 -- 0.002437441609799862\n"
     ]
    },
    {
     "data": {
      "application/vnd.jupyter.widget-view+json": {
       "model_id": "e309190264054662bd1a02e19a6be2a9",
       "version_major": 2,
       "version_minor": 0
      },
      "text/plain": [
       "HBox(children=(Output(), Output()))"
      ]
     },
     "metadata": {},
     "output_type": "display_data"
    },
    {
     "name": "stdout",
     "output_type": "stream",
     "text": [
      "fc1.0.weight (819200,) (819200,)\n",
      "Pearson R: (0.006263907865748767, 1.4322389904215318e-08)\n",
      "0.0 -- 6.298358584899688e-06 vs 0.0 -- 1.4899650523148011e-05\n"
     ]
    },
    {
     "data": {
      "application/vnd.jupyter.widget-view+json": {
       "model_id": "bb79439565494112a3f33c3fcb3cd7a8",
       "version_major": 2,
       "version_minor": 0
      },
      "text/plain": [
       "HBox(children=(Output(), Output()))"
      ]
     },
     "metadata": {},
     "output_type": "display_data"
    },
    {
     "name": "stdout",
     "output_type": "stream",
     "text": [
      "fc1.0.bias (256,) (256,)\n",
      "Pearson R: (-0.04116246021129692, 0.5120466120099061)\n",
      "0.0 -- 2.9126347726560198e-05 vs 0.0 -- 3.018149254785385e-05\n"
     ]
    },
    {
     "data": {
      "application/vnd.jupyter.widget-view+json": {
       "model_id": "b52da64d7c0045cda8e5e83146e4a12b",
       "version_major": 2,
       "version_minor": 0
      },
      "text/plain": [
       "HBox(children=(Output(), Output()))"
      ]
     },
     "metadata": {},
     "output_type": "display_data"
    },
    {
     "name": "stdout",
     "output_type": "stream",
     "text": [
      "last.All.weight (512,) (512,)\n",
      "Pearson R: (-0.04333501590139797, 0.32776648379956125)\n",
      "0.0 -- 0.002176207723096013 vs 0.0 -- 0.0044113630428910255\n"
     ]
    },
    {
     "data": {
      "application/vnd.jupyter.widget-view+json": {
       "model_id": "7df62831a2c84b85a18e5d2f5c25f567",
       "version_major": 2,
       "version_minor": 0
      },
      "text/plain": [
       "HBox(children=(Output(), Output()))"
      ]
     },
     "metadata": {},
     "output_type": "display_data"
    },
    {
     "name": "stdout",
     "output_type": "stream",
     "text": [
      "last.All.bias (2,) (2,)\n",
      "Pearson R: (1.0, 1.0)\n",
      "0.0010263773147016764 -- 0.0010263777803629637 vs 0.0014922863338142633 -- 0.001492287265136838\n"
     ]
    },
    {
     "data": {
      "application/vnd.jupyter.widget-view+json": {
       "model_id": "b996c4b9a465430787fba96f617b122c",
       "version_major": 2,
       "version_minor": 0
      },
      "text/plain": [
       "HBox(children=(Output(), Output()))"
      ]
     },
     "metadata": {},
     "output_type": "display_data"
    }
   ],
   "source": [
    "from scipy import stats\n",
    "\n",
    "for layer in ewc[0]:\n",
    "    a, b = ewc[0][layer].flatten().cpu().numpy(), ewc[1][layer].flatten().cpu().numpy()\n",
    "    \n",
    "    print(layer, a.shape, b.shape)\n",
    "    print(f'Pearson R: {stats.pearsonr(a, b)}')\n",
    "    print(f'{a.min()} -- {a.max()} vs {b.min()} -- {b.max()}')\n",
    "    \n",
    "    h = int(np.sqrt(a.shape[0]))\n",
    "    while a.shape[0] % h != 0:\n",
    "        h -= 1\n",
    "    \n",
    "    a = a.reshape(h, -1)\n",
    "    b = b.reshape(h, -1)\n",
    "    \n",
    "    downscale = 15\n",
    "    with (out1 := Output()):\n",
    "        plt.figure(figsize=(a.shape[0] / downscale, a.shape[1] / downscale))\n",
    "        plt.axis('off')\n",
    "        plt.show(plt.imshow(a, vmin=a.min(), vmax=a.max(), aspect='equal', interpolation='none'))\n",
    "    with (out2 := Output()):\n",
    "        plt.figure(figsize=(b.shape[0] / downscale, b.shape[1] / downscale))\n",
    "        plt.axis('off')\n",
    "        plt.show(plt.imshow(b, vmin=a.min(), vmax=a.max(), aspect='equal', interpolation='none'))\n",
    "        \n",
    "    display(HBox([\n",
    "        out1,\n",
    "        out2\n",
    "    ]))"
   ]
  },
  {
   "cell_type": "code",
   "execution_count": null,
   "metadata": {},
   "outputs": [],
   "source": []
  }
 ],
 "metadata": {
  "interpreter": {
   "hash": "60ef117c19e7f15cee43906cd23c65e127d99dcd5054db6a18e21d0d9e1d4733"
  },
  "kernelspec": {
   "display_name": "Python 3",
   "language": "python",
   "name": "python3"
  },
  "language_info": {
   "codemirror_mode": {
    "name": "ipython",
    "version": 3
   },
   "file_extension": ".py",
   "mimetype": "text/x-python",
   "name": "python",
   "nbconvert_exporter": "python",
   "pygments_lexer": "ipython3",
   "version": "3.9.5"
  }
 },
 "nbformat": 4,
 "nbformat_minor": 4
}
