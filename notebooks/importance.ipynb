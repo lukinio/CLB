{
 "cells": [
  {
   "cell_type": "code",
   "execution_count": 2,
   "metadata": {},
   "outputs": [],
   "source": [
    "import torch"
   ]
  },
  {
   "cell_type": "code",
   "execution_count": 6,
   "metadata": {},
   "outputs": [],
   "source": [
    "ewc = torch.load('../checkpoints/EWC_1.pt')\n",
    "interval = torch.load('../checkpoints/interval_1.pt')"
   ]
  },
  {
   "cell_type": "code",
   "execution_count": 10,
   "metadata": {},
   "outputs": [
    {
     "data": {
      "text/plain": [
       "odict_keys(['c1.0.weight', 'c1.0.bias', 'c1.2.weight', 'c1.2.bias', 'c1.4.weight', 'c1.4.bias', 'c2.0.weight', 'c2.0.bias', 'c2.2.weight', 'c2.2.bias', 'c3.0.weight', 'c3.0.bias', 'c3.2.weight', 'c3.2.bias', 'fc1.0.weight', 'fc1.0.bias', 'last.All.weight', 'last.All.bias'])"
      ]
     },
     "execution_count": 10,
     "metadata": {},
     "output_type": "execute_result"
    }
   ],
   "source": [
    "ewc.keys()\n",
    "\n",
    "# interval.keys()"
   ]
  },
  {
   "cell_type": "code",
   "execution_count": null,
   "metadata": {},
   "outputs": [],
   "source": []
  }
 ],
 "metadata": {
  "interpreter": {
   "hash": "60ef117c19e7f15cee43906cd23c65e127d99dcd5054db6a18e21d0d9e1d4733"
  },
  "kernelspec": {
   "display_name": "Python 3.9.5 64-bit ('intervalnet': conda)",
   "name": "python3"
  },
  "language_info": {
   "codemirror_mode": {
    "name": "ipython",
    "version": 3
   },
   "file_extension": ".py",
   "mimetype": "text/x-python",
   "name": "python",
   "nbconvert_exporter": "python",
   "pygments_lexer": "ipython3",
   "version": "3.9.5"
  },
  "orig_nbformat": 4
 },
 "nbformat": 4,
 "nbformat_minor": 2
}