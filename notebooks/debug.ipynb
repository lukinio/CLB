{
 "cells": [
  {
   "cell_type": "code",
   "execution_count": 15,
   "source": [
    "import torch\n",
    "import torch.nn as nn\n",
    "import torch.nn.functional as F"
   ],
   "outputs": [],
   "metadata": {}
  },
  {
   "cell_type": "code",
   "execution_count": 63,
   "source": [
    "probs = torch.tensor([0.5, 0.5])\n",
    "probs = probs / probs.sum()\n",
    "\n",
    "output = probs.log().view(1, -1)\n",
    "target = torch.tensor([1])\n",
    "criterion = nn.CrossEntropyLoss()\n",
    "\n",
    "print(output, target)\n",
    "print(criterion(output, target))\n",
    "print(F.softmax(output, dim=1))\n",
    "-torch.log(F.softmax(output, dim=1)[0, -1])"
   ],
   "outputs": [
    {
     "output_type": "stream",
     "name": "stdout",
     "text": [
      "tensor([[-0.6931, -0.6931]]) tensor([1])\n",
      "tensor(0.6931)\n",
      "tensor([[0.5000, 0.5000]])\n"
     ]
    },
    {
     "output_type": "execute_result",
     "data": {
      "text/plain": [
       "tensor(0.6931)"
      ]
     },
     "metadata": {},
     "execution_count": 63
    }
   ],
   "metadata": {}
  }
 ],
 "metadata": {
  "orig_nbformat": 4,
  "language_info": {
   "name": "python",
   "version": "3.9.2",
   "mimetype": "text/x-python",
   "codemirror_mode": {
    "name": "ipython",
    "version": 3
   },
   "pygments_lexer": "ipython3",
   "nbconvert_exporter": "python",
   "file_extension": ".py"
  },
  "kernelspec": {
   "name": "python3",
   "display_name": "Python 3.9.2 64-bit ('intervalnet': conda)"
  },
  "interpreter": {
   "hash": "e7ce1d03a13cf46f37f8dc67dd58cd150b2827c31a9a339176824b15d411eeaf"
  }
 },
 "nbformat": 4,
 "nbformat_minor": 2
}